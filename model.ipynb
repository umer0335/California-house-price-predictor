{
 "cells": [
  {
   "cell_type": "markdown",
   "id": "70c379b7-9343-4185-b404-242e05ff38fa",
   "metadata": {},
   "source": [
    "# House price predictor in California \n",
    "### By Umer Tahir \n",
    "This Python script is used for saving the best model we trained from the analysis file."
   ]
  },
  {
   "cell_type": "code",
   "execution_count": 15,
   "id": "b70b1322-7447-411f-b425-22ffaee83599",
   "metadata": {},
   "outputs": [],
   "source": [
    "# importing all the libraries \n",
    "import pandas as pd\n",
    "from sklearn.model_selection import train_test_split\n",
    "from sklearn.ensemble import RandomForestRegressor\n",
    "from sklearn.metrics import accuracy_score\n",
    "import joblib\n",
    "from sklearn.preprocessing import StandardScaler"
   ]
  },
  {
   "cell_type": "code",
   "execution_count": 3,
   "id": "61f1c771-50e6-4101-a0d4-34a75948c915",
   "metadata": {},
   "outputs": [],
   "source": [
    "#read the dataset and remove na values from the dataset\n",
    "data= pd.read_csv(\"housing.csv\")\n",
    "data.dropna(inplace=True)\n",
    "\n"
   ]
  },
  {
   "cell_type": "code",
   "execution_count": 4,
   "id": "13d9c104-57bd-423d-9c0e-307c8c9fae4c",
   "metadata": {},
   "outputs": [],
   "source": [
    "#dividing the dataset into x and y \n",
    "X= data.drop(['median_house_value'], axis=1)\n",
    "y= data['median_house_value']\n",
    "X_train, X_test, y_train, y_test = train_test_split(X, y, test_size=0.2)"
   ]
  },
  {
   "cell_type": "code",
   "execution_count": 5,
   "id": "9a93c481-7c75-44c2-9bb1-302b2987e158",
   "metadata": {},
   "outputs": [],
   "source": [
    "# joining train and test dataset for modifications\n",
    "train_data= X_train.join(y_train)\n",
    "test_data= X_test.join(y_test)"
   ]
  },
  {
   "cell_type": "code",
   "execution_count": 6,
   "id": "d20c4e24-152c-405b-9f05-881566d89a8c",
   "metadata": {},
   "outputs": [],
   "source": [
    "train_data=train_data.join(pd.get_dummies(train_data.ocean_proximity)).drop(['ocean_proximity'], axis=1)\n",
    "\n",
    "\n",
    "test_data=test_data.join(pd.get_dummies(test_data.ocean_proximity)).drop(['ocean_proximity'], axis=1)"
   ]
  },
  {
   "cell_type": "code",
   "execution_count": 7,
   "id": "c47b4140-f6de-401b-a7a0-4d6b29d2e2ec",
   "metadata": {},
   "outputs": [],
   "source": [
    "#new features of the model\n",
    "train_data['bedroom_ratio'] = train_data['total_bedrooms']/train_data['total_rooms']\n",
    "train_data['household_rooms']= train_data['total_rooms']/ train_data['households']"
   ]
  },
  {
   "cell_type": "code",
   "execution_count": 8,
   "id": "c68489f2-95cb-4882-a8f9-c71ee4e21290",
   "metadata": {},
   "outputs": [],
   "source": [
    "# we will have to divide the training data again over the new features \n",
    "X_train, y_train= train_data.drop(['median_house_value'],axis=1), train_data['median_house_value']"
   ]
  },
  {
   "cell_type": "code",
   "execution_count": 9,
   "id": "9e6419ab-980b-4468-8fa2-28c089669a2b",
   "metadata": {},
   "outputs": [],
   "source": [
    "# as we added the new features in our training set we we have to do the same wih our test set\n",
    "test_data['bedroom_ratio'] = test_data['total_bedrooms']/test_data['total_rooms']\n",
    "test_data['household_rooms']= test_data['total_rooms']/ test_data['households']\n",
    "X_test, y_test= test_data.drop(['median_house_value'],axis=1), test_data['median_house_value']"
   ]
  },
  {
   "cell_type": "code",
   "execution_count": 11,
   "id": "79cb632d-5915-45c3-a59c-193940dc6561",
   "metadata": {},
   "outputs": [
    {
     "name": "stdout",
     "output_type": "stream",
     "text": [
      "Best Random Forest score: 0.8191241824496975\n"
     ]
    }
   ],
   "source": [
    "# model\n",
    "model=  RandomForestRegressor(n_estimators=900, random_state=42)\n",
    "model.fit(X_train, y_train)\n",
    "y_pred = model.predict(X_test)\n",
    "\n",
    "# Evaluate the best model to get the best accuracy for prediction\n",
    "score = model.score(X_test, y_test)\n",
    "print(f\"Best Random Forest score: {score}\")"
   ]
  },
  {
   "cell_type": "code",
   "execution_count": 18,
   "id": "cd8ed2a6-f222-4f12-a20a-7bd4f65a8973",
   "metadata": {},
   "outputs": [
    {
     "name": "stdout",
     "output_type": "stream",
     "text": [
      "The model has been saved\n"
     ]
    }
   ],
   "source": [
    "# Save the model \n",
    "joblib.dump(model, 'model.joblib')\n",
    "print(\"The model has been saved\")"
   ]
  }
 ],
 "metadata": {
  "kernelspec": {
   "display_name": "Python 3 (ipykernel)",
   "language": "python",
   "name": "python3"
  },
  "language_info": {
   "codemirror_mode": {
    "name": "ipython",
    "version": 3
   },
   "file_extension": ".py",
   "mimetype": "text/x-python",
   "name": "python",
   "nbconvert_exporter": "python",
   "pygments_lexer": "ipython3",
   "version": "3.12.2"
  }
 },
 "nbformat": 4,
 "nbformat_minor": 5
}
